{
 "cells": [
  {
   "cell_type": "code",
   "execution_count": 4,
   "metadata": {
    "colab": {
     "base_uri": "https://localhost:8080/",
     "height": 35
    },
    "colab_type": "code",
    "id": "f0xW1jrOrQ5Q",
    "outputId": "92d36c90-4bc2-40ab-e51d-d3fc066b2409"
   },
   "outputs": [
    {
     "name": "stderr",
     "output_type": "stream",
     "text": [
      "Using TensorFlow backend.\n"
     ]
    }
   ],
   "source": [
    "from keras.datasets import mnist\n",
    "import keras.backend as k\n",
    "from keras.layers import Dense, Conv2D, MaxPooling2D, Flatten, Dropout\n",
    "from keras.models import Sequential\n",
    "from keras.optimizers import Adam\n",
    "from keras.utils.np_utils import to_categorical\n"
   ]
  },
  {
   "cell_type": "code",
   "execution_count": 5,
   "metadata": {
    "colab": {
     "base_uri": "https://localhost:8080/",
     "height": 53
    },
    "colab_type": "code",
    "id": "pOtEuookrXZh",
    "outputId": "7ef1552d-75db-4c47-ce0e-cf281260eee9"
   },
   "outputs": [
    {
     "name": "stdout",
     "output_type": "stream",
     "text": [
      "Downloading data from https://s3.amazonaws.com/img-datasets/mnist.npz\n",
      "11493376/11490434 [==============================] - 1s 0us/step\n"
     ]
    }
   ],
   "source": [
    "(X_train, y_train), (X_test, y_test) = mnist.load_data()\n",
    "\n",
    "batch_size = 128\n",
    "\n",
    "epochs = 15\n",
    "\n",
    "num_classes = 10\n",
    "\n",
    "X_train = X_train.astype('float32')\n",
    "X_test = X_test.astype('float32')\n",
    "X_train /= 255\n",
    "X_test /= 255\n",
    "\n",
    "X_train= X_train.reshape(X_train.shape[0],28,28,1)\n",
    "X_test = X_test.reshape(X_test.shape[0],28,28,1)\n"
   ]
  },
  {
   "cell_type": "code",
   "execution_count": 0,
   "metadata": {
    "colab": {},
    "colab_type": "code",
    "id": "7tPkilZzratn"
   },
   "outputs": [],
   "source": [
    "y_test = to_categorical(y_test,10)\n",
    "y_train = to_categorical(y_train,10)"
   ]
  },
  {
   "cell_type": "code",
   "execution_count": 0,
   "metadata": {
    "colab": {},
    "colab_type": "code",
    "id": "5rdBrQOjrdwY"
   },
   "outputs": [],
   "source": [
    "model = Sequential()\n",
    "model.add(Conv2D(32, (3,3), activation='relu', input_shape = (28,28,1)))\n",
    "model.add(Conv2D(64, (3,3), activation='relu'))\n",
    "model.add(MaxPooling2D(pool_size=(2, 2)))\n",
    "model.add(Dropout(0.25))\n",
    "model.add(Flatten())\n",
    "model.add(Dense(128, activation='relu'))\n",
    "model.add(Dropout(0.5))\n",
    "model.add(Dense(10, activation='softmax'))\n",
    "model.compile('adam','categorical_crossentropy', metrics=['accuracy'])\n",
    "\n"
   ]
  },
  {
   "cell_type": "code",
   "execution_count": 8,
   "metadata": {
    "colab": {
     "base_uri": "https://localhost:8080/",
     "height": 570
    },
    "colab_type": "code",
    "id": "NxIe7-x7rg8r",
    "outputId": "7e3dabf7-f342-4a78-a847-8eaac8466279"
   },
   "outputs": [
    {
     "name": "stdout",
     "output_type": "stream",
     "text": [
      "Epoch 1/15\n",
      "60000/60000 [==============================] - 11s 183us/step - loss: 0.2251 - acc: 0.9310\n",
      "Epoch 2/15\n",
      "60000/60000 [==============================] - 9s 151us/step - loss: 0.0811 - acc: 0.9761\n",
      "Epoch 3/15\n",
      "60000/60000 [==============================] - 9s 151us/step - loss: 0.0620 - acc: 0.9808\n",
      "Epoch 4/15\n",
      "60000/60000 [==============================] - 9s 152us/step - loss: 0.0498 - acc: 0.9846\n",
      "Epoch 5/15\n",
      "60000/60000 [==============================] - 9s 151us/step - loss: 0.0424 - acc: 0.9873\n",
      "Epoch 6/15\n",
      "60000/60000 [==============================] - 9s 151us/step - loss: 0.0377 - acc: 0.9883\n",
      "Epoch 7/15\n",
      "60000/60000 [==============================] - 9s 151us/step - loss: 0.0319 - acc: 0.9894\n",
      "Epoch 8/15\n",
      "60000/60000 [==============================] - 9s 151us/step - loss: 0.0308 - acc: 0.9902\n",
      "Epoch 9/15\n",
      "60000/60000 [==============================] - 9s 151us/step - loss: 0.0275 - acc: 0.9910\n",
      "Epoch 10/15\n",
      "60000/60000 [==============================] - 9s 151us/step - loss: 0.0238 - acc: 0.9924\n",
      "Epoch 11/15\n",
      "60000/60000 [==============================] - 9s 150us/step - loss: 0.0212 - acc: 0.9932\n",
      "Epoch 12/15\n",
      "60000/60000 [==============================] - 9s 150us/step - loss: 0.0208 - acc: 0.9932\n",
      "Epoch 13/15\n",
      "60000/60000 [==============================] - 9s 151us/step - loss: 0.0201 - acc: 0.9934\n",
      "Epoch 14/15\n",
      "60000/60000 [==============================] - 9s 151us/step - loss: 0.0166 - acc: 0.9943\n",
      "Epoch 15/15\n",
      "60000/60000 [==============================] - 9s 151us/step - loss: 0.0176 - acc: 0.9938\n"
     ]
    },
    {
     "data": {
      "text/plain": [
       "<keras.callbacks.History at 0x7f4a5daab860>"
      ]
     },
     "execution_count": 8,
     "metadata": {
      "tags": []
     },
     "output_type": "execute_result"
    }
   ],
   "source": [
    "model.fit(X_train,y_train,batch_size=batch_size, epochs=15)"
   ]
  },
  {
   "cell_type": "code",
   "execution_count": 10,
   "metadata": {
    "colab": {
     "base_uri": "https://localhost:8080/",
     "height": 53
    },
    "colab_type": "code",
    "id": "Bzh_2wlVrkHc",
    "outputId": "0d3e3d73-21b3-4ae4-d1ee-6a6ed6fa0a69"
   },
   "outputs": [
    {
     "name": "stdout",
     "output_type": "stream",
     "text": [
      "10000/10000 [==============================] - 1s 146us/step\n",
      "[0.0278153533963939, 0.9922]\n"
     ]
    }
   ],
   "source": [
    "score = model.evaluate(X_test, y_test)\n",
    "print(score)"
   ]
  }
 ],
 "metadata": {
  "accelerator": "GPU",
  "colab": {
   "name": "mnist.ipynb",
   "provenance": [],
   "version": "0.3.2"
  },
  "kernelspec": {
   "display_name": "Python 3",
   "language": "python",
   "name": "python3"
  },
  "language_info": {
   "codemirror_mode": {
    "name": "ipython",
    "version": 3
   },
   "file_extension": ".py",
   "mimetype": "text/x-python",
   "name": "python",
   "nbconvert_exporter": "python",
   "pygments_lexer": "ipython3",
   "version": "3.6.4"
  }
 },
 "nbformat": 4,
 "nbformat_minor": 1
}
